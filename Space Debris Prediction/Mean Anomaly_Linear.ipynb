{
 "cells": [
  {
   "cell_type": "code",
   "execution_count": 1,
   "metadata": {},
   "outputs": [
    {
     "name": "stderr",
     "output_type": "stream",
     "text": [
      "Using TensorFlow backend.\n"
     ]
    }
   ],
   "source": [
    "import numpy as np\n",
    "import pandas as pd\n",
    "import matplotlib.pyplot as plt\n",
    "import keras\n",
    "import tensorflow as tf\n",
    "%matplotlib qt5"
   ]
  },
  {
   "cell_type": "code",
   "execution_count": 2,
   "metadata": {},
   "outputs": [
    {
     "data": {
      "text/html": [
       "<div>\n",
       "<style scoped>\n",
       "    .dataframe tbody tr th:only-of-type {\n",
       "        vertical-align: middle;\n",
       "    }\n",
       "\n",
       "    .dataframe tbody tr th {\n",
       "        vertical-align: top;\n",
       "    }\n",
       "\n",
       "    .dataframe thead th {\n",
       "        text-align: right;\n",
       "    }\n",
       "</style>\n",
       "<table border=\"1\" class=\"dataframe\">\n",
       "  <thead>\n",
       "    <tr style=\"text-align: right;\">\n",
       "      <th></th>\n",
       "      <th>Unnamed: 0</th>\n",
       "      <th>Mean Anomaly</th>\n",
       "    </tr>\n",
       "  </thead>\n",
       "  <tbody>\n",
       "    <tr>\n",
       "      <th>0</th>\n",
       "      <td>0</td>\n",
       "      <td>5.904736e+02</td>\n",
       "    </tr>\n",
       "    <tr>\n",
       "      <th>1</th>\n",
       "      <td>1</td>\n",
       "      <td>9.498960e+02</td>\n",
       "    </tr>\n",
       "    <tr>\n",
       "      <th>2</th>\n",
       "      <td>2</td>\n",
       "      <td>1.371916e+03</td>\n",
       "    </tr>\n",
       "    <tr>\n",
       "      <th>3</th>\n",
       "      <td>3</td>\n",
       "      <td>1.718384e+03</td>\n",
       "    </tr>\n",
       "    <tr>\n",
       "      <th>4</th>\n",
       "      <td>4</td>\n",
       "      <td>1.817394e+03</td>\n",
       "    </tr>\n",
       "    <tr>\n",
       "      <th>...</th>\n",
       "      <td>...</td>\n",
       "      <td>...</td>\n",
       "    </tr>\n",
       "    <tr>\n",
       "      <th>7132</th>\n",
       "      <td>7132</td>\n",
       "      <td>2.567893e+06</td>\n",
       "    </tr>\n",
       "    <tr>\n",
       "      <th>7133</th>\n",
       "      <td>7133</td>\n",
       "      <td>2.568262e+06</td>\n",
       "    </tr>\n",
       "    <tr>\n",
       "      <th>7134</th>\n",
       "      <td>7134</td>\n",
       "      <td>2.568621e+06</td>\n",
       "    </tr>\n",
       "    <tr>\n",
       "      <th>7135</th>\n",
       "      <td>7135</td>\n",
       "      <td>2.568984e+06</td>\n",
       "    </tr>\n",
       "    <tr>\n",
       "      <th>7136</th>\n",
       "      <td>7136</td>\n",
       "      <td>2.569345e+06</td>\n",
       "    </tr>\n",
       "  </tbody>\n",
       "</table>\n",
       "<p>7137 rows × 2 columns</p>\n",
       "</div>"
      ],
      "text/plain": [
       "      Unnamed: 0  Mean Anomaly\n",
       "0              0  5.904736e+02\n",
       "1              1  9.498960e+02\n",
       "2              2  1.371916e+03\n",
       "3              3  1.718384e+03\n",
       "4              4  1.817394e+03\n",
       "...          ...           ...\n",
       "7132        7132  2.567893e+06\n",
       "7133        7133  2.568262e+06\n",
       "7134        7134  2.568621e+06\n",
       "7135        7135  2.568984e+06\n",
       "7136        7136  2.569345e+06\n",
       "\n",
       "[7137 rows x 2 columns]"
      ]
     },
     "execution_count": 2,
     "metadata": {},
     "output_type": "execute_result"
    }
   ],
   "source": [
    "raan = pd.read_csv('xz.csv')\n",
    "raan"
   ]
  },
  {
   "cell_type": "code",
   "execution_count": 3,
   "metadata": {},
   "outputs": [],
   "source": [
    "raan = raan.drop('Unnamed: 0', axis = 1)"
   ]
  },
  {
   "cell_type": "code",
   "execution_count": 4,
   "metadata": {},
   "outputs": [
    {
     "data": {
      "text/html": [
       "<div>\n",
       "<style scoped>\n",
       "    .dataframe tbody tr th:only-of-type {\n",
       "        vertical-align: middle;\n",
       "    }\n",
       "\n",
       "    .dataframe tbody tr th {\n",
       "        vertical-align: top;\n",
       "    }\n",
       "\n",
       "    .dataframe thead th {\n",
       "        text-align: right;\n",
       "    }\n",
       "</style>\n",
       "<table border=\"1\" class=\"dataframe\">\n",
       "  <thead>\n",
       "    <tr style=\"text-align: right;\">\n",
       "      <th></th>\n",
       "      <th>Mean Anomaly</th>\n",
       "    </tr>\n",
       "  </thead>\n",
       "  <tbody>\n",
       "    <tr>\n",
       "      <th>0</th>\n",
       "      <td>5.904736e+02</td>\n",
       "    </tr>\n",
       "    <tr>\n",
       "      <th>1</th>\n",
       "      <td>9.498960e+02</td>\n",
       "    </tr>\n",
       "    <tr>\n",
       "      <th>2</th>\n",
       "      <td>1.371916e+03</td>\n",
       "    </tr>\n",
       "    <tr>\n",
       "      <th>3</th>\n",
       "      <td>1.718384e+03</td>\n",
       "    </tr>\n",
       "    <tr>\n",
       "      <th>4</th>\n",
       "      <td>1.817394e+03</td>\n",
       "    </tr>\n",
       "    <tr>\n",
       "      <th>...</th>\n",
       "      <td>...</td>\n",
       "    </tr>\n",
       "    <tr>\n",
       "      <th>7132</th>\n",
       "      <td>2.567893e+06</td>\n",
       "    </tr>\n",
       "    <tr>\n",
       "      <th>7133</th>\n",
       "      <td>2.568262e+06</td>\n",
       "    </tr>\n",
       "    <tr>\n",
       "      <th>7134</th>\n",
       "      <td>2.568621e+06</td>\n",
       "    </tr>\n",
       "    <tr>\n",
       "      <th>7135</th>\n",
       "      <td>2.568984e+06</td>\n",
       "    </tr>\n",
       "    <tr>\n",
       "      <th>7136</th>\n",
       "      <td>2.569345e+06</td>\n",
       "    </tr>\n",
       "  </tbody>\n",
       "</table>\n",
       "<p>7137 rows × 1 columns</p>\n",
       "</div>"
      ],
      "text/plain": [
       "      Mean Anomaly\n",
       "0     5.904736e+02\n",
       "1     9.498960e+02\n",
       "2     1.371916e+03\n",
       "3     1.718384e+03\n",
       "4     1.817394e+03\n",
       "...            ...\n",
       "7132  2.567893e+06\n",
       "7133  2.568262e+06\n",
       "7134  2.568621e+06\n",
       "7135  2.568984e+06\n",
       "7136  2.569345e+06\n",
       "\n",
       "[7137 rows x 1 columns]"
      ]
     },
     "execution_count": 4,
     "metadata": {},
     "output_type": "execute_result"
    }
   ],
   "source": [
    "raan"
   ]
  },
  {
   "cell_type": "code",
   "execution_count": 5,
   "metadata": {},
   "outputs": [],
   "source": [
    "idx = pd.DataFrame(range(len(raan)))"
   ]
  },
  {
   "cell_type": "code",
   "execution_count": 6,
   "metadata": {},
   "outputs": [
    {
     "data": {
      "text/html": [
       "<div>\n",
       "<style scoped>\n",
       "    .dataframe tbody tr th:only-of-type {\n",
       "        vertical-align: middle;\n",
       "    }\n",
       "\n",
       "    .dataframe tbody tr th {\n",
       "        vertical-align: top;\n",
       "    }\n",
       "\n",
       "    .dataframe thead th {\n",
       "        text-align: right;\n",
       "    }\n",
       "</style>\n",
       "<table border=\"1\" class=\"dataframe\">\n",
       "  <thead>\n",
       "    <tr style=\"text-align: right;\">\n",
       "      <th></th>\n",
       "      <th>0</th>\n",
       "      <th>Mean Anomaly</th>\n",
       "    </tr>\n",
       "  </thead>\n",
       "  <tbody>\n",
       "    <tr>\n",
       "      <th>0</th>\n",
       "      <td>0</td>\n",
       "      <td>5.904736e+02</td>\n",
       "    </tr>\n",
       "    <tr>\n",
       "      <th>1</th>\n",
       "      <td>1</td>\n",
       "      <td>9.498960e+02</td>\n",
       "    </tr>\n",
       "    <tr>\n",
       "      <th>2</th>\n",
       "      <td>2</td>\n",
       "      <td>1.371916e+03</td>\n",
       "    </tr>\n",
       "    <tr>\n",
       "      <th>3</th>\n",
       "      <td>3</td>\n",
       "      <td>1.718384e+03</td>\n",
       "    </tr>\n",
       "    <tr>\n",
       "      <th>4</th>\n",
       "      <td>4</td>\n",
       "      <td>1.817394e+03</td>\n",
       "    </tr>\n",
       "    <tr>\n",
       "      <th>...</th>\n",
       "      <td>...</td>\n",
       "      <td>...</td>\n",
       "    </tr>\n",
       "    <tr>\n",
       "      <th>7132</th>\n",
       "      <td>7132</td>\n",
       "      <td>2.567893e+06</td>\n",
       "    </tr>\n",
       "    <tr>\n",
       "      <th>7133</th>\n",
       "      <td>7133</td>\n",
       "      <td>2.568262e+06</td>\n",
       "    </tr>\n",
       "    <tr>\n",
       "      <th>7134</th>\n",
       "      <td>7134</td>\n",
       "      <td>2.568621e+06</td>\n",
       "    </tr>\n",
       "    <tr>\n",
       "      <th>7135</th>\n",
       "      <td>7135</td>\n",
       "      <td>2.568984e+06</td>\n",
       "    </tr>\n",
       "    <tr>\n",
       "      <th>7136</th>\n",
       "      <td>7136</td>\n",
       "      <td>2.569345e+06</td>\n",
       "    </tr>\n",
       "  </tbody>\n",
       "</table>\n",
       "<p>7137 rows × 2 columns</p>\n",
       "</div>"
      ],
      "text/plain": [
       "         0  Mean Anomaly\n",
       "0        0  5.904736e+02\n",
       "1        1  9.498960e+02\n",
       "2        2  1.371916e+03\n",
       "3        3  1.718384e+03\n",
       "4        4  1.817394e+03\n",
       "...    ...           ...\n",
       "7132  7132  2.567893e+06\n",
       "7133  7133  2.568262e+06\n",
       "7134  7134  2.568621e+06\n",
       "7135  7135  2.568984e+06\n",
       "7136  7136  2.569345e+06\n",
       "\n",
       "[7137 rows x 2 columns]"
      ]
     },
     "execution_count": 6,
     "metadata": {},
     "output_type": "execute_result"
    }
   ],
   "source": [
    "raan = pd.concat([idx, raan], axis = 1)\n",
    "raan"
   ]
  },
  {
   "cell_type": "code",
   "execution_count": 7,
   "metadata": {},
   "outputs": [
    {
     "name": "stdout",
     "output_type": "stream",
     "text": [
      "(5709,)\n",
      "(1428,)\n",
      "(5709,)\n",
      "(1428,)\n"
     ]
    }
   ],
   "source": [
    "x = np.array(raan[0])\n",
    "y = np.array(raan['Mean Anomaly'])\n",
    "X_train = x[:int(len(x) * 0.8)]\n",
    "y_train = x[:int(len(x) * 0.8)]\n",
    "X_test = x[int(len(x) * 0.8):]\n",
    "y_test = x[int(len(x) * 0.8):]\n",
    "print(X_train.shape)\n",
    "print(X_test.shape)\n",
    "print(y_train.shape)\n",
    "print(y_test.shape)"
   ]
  },
  {
   "cell_type": "code",
   "execution_count": 8,
   "metadata": {},
   "outputs": [],
   "source": [
    "import tensorflow as tf\n",
    "from tensorflow.keras.layers import Dense\n",
    "from tensorflow.keras.models import Sequential\n",
    "import keras.backend as K"
   ]
  },
  {
   "cell_type": "code",
   "execution_count": 9,
   "metadata": {},
   "outputs": [],
   "source": [
    "batch_size = 50\n",
    "lr = 0.01\n",
    "epoch = 500"
   ]
  },
  {
   "cell_type": "code",
   "execution_count": 9,
   "metadata": {},
   "outputs": [],
   "source": [
    "K.clear_session()\n",
    "model = Sequential()\n",
    "model.add(Dense(100, activation = tf.nn.relu, input_shape = [1]))\n",
    "model.add(Dense(50, activation = tf.nn.relu))\n",
    "model.add(Dense(25, activation = tf.nn.relu))\n",
    "model.add(Dense(1))\n",
    "\n",
    "model.compile(loss = 'mse', optimizer = 'adam')"
   ]
  },
  {
   "cell_type": "code",
   "execution_count": 10,
   "metadata": {},
   "outputs": [
    {
     "name": "stdout",
     "output_type": "stream",
     "text": [
      "Model: \"sequential\"\n",
      "_________________________________________________________________\n",
      "Layer (type)                 Output Shape              Param #   \n",
      "=================================================================\n",
      "dense (Dense)                (None, 100)               200       \n",
      "_________________________________________________________________\n",
      "dense_1 (Dense)              (None, 50)                5050      \n",
      "_________________________________________________________________\n",
      "dense_2 (Dense)              (None, 25)                1275      \n",
      "_________________________________________________________________\n",
      "dense_3 (Dense)              (None, 1)                 26        \n",
      "=================================================================\n",
      "Total params: 6,551\n",
      "Trainable params: 6,551\n",
      "Non-trainable params: 0\n",
      "_________________________________________________________________\n"
     ]
    }
   ],
   "source": [
    "model.summary()"
   ]
  },
  {
   "cell_type": "code",
   "execution_count": 11,
   "metadata": {},
   "outputs": [],
   "source": [
    "from tensorflow.keras.callbacks import EarlyStopping\n",
    "es = EarlyStopping(monitor = 'val_loss', patience = 30, verbose = 1, mode = 'min')"
   ]
  },
  {
   "cell_type": "code",
   "execution_count": 12,
   "metadata": {},
   "outputs": [
    {
     "name": "stdout",
     "output_type": "stream",
     "text": [
      "Epoch 1/500\n",
      "115/115 [==============================] - 0s 4ms/step - loss: 1983641.8750 - val_loss: 35.6863\n",
      "Epoch 2/500\n",
      "115/115 [==============================] - 0s 2ms/step - loss: 0.5691 - val_loss: 0.0700\n",
      "Epoch 3/500\n",
      "115/115 [==============================] - 0s 3ms/step - loss: 0.2096 - val_loss: 0.0068\n",
      "Epoch 4/500\n",
      "115/115 [==============================] - 0s 2ms/step - loss: 0.0445 - val_loss: 0.0779\n",
      "Epoch 5/500\n",
      "115/115 [==============================] - 0s 3ms/step - loss: 0.0365 - val_loss: 0.0882\n",
      "Epoch 6/500\n",
      "115/115 [==============================] - 0s 3ms/step - loss: 0.0364 - val_loss: 0.0513\n",
      "Epoch 7/500\n",
      "115/115 [==============================] - 0s 3ms/step - loss: 0.0363 - val_loss: 0.0733\n",
      "Epoch 8/500\n",
      "115/115 [==============================] - 0s 3ms/step - loss: 0.0360 - val_loss: 0.0679\n",
      "Epoch 9/500\n",
      "115/115 [==============================] - 0s 3ms/step - loss: 0.0358 - val_loss: 0.0515\n",
      "Epoch 10/500\n",
      "115/115 [==============================] - 0s 3ms/step - loss: 0.0356 - val_loss: 0.0679\n",
      "Epoch 11/500\n",
      "115/115 [==============================] - 0s 2ms/step - loss: 0.0356 - val_loss: 0.0961\n",
      "Epoch 12/500\n",
      "115/115 [==============================] - 0s 2ms/step - loss: 0.0354 - val_loss: 0.0930\n",
      "Epoch 13/500\n",
      "115/115 [==============================] - 0s 2ms/step - loss: 0.0819 - val_loss: 4.2790\n",
      "Epoch 14/500\n",
      "115/115 [==============================] - 0s 3ms/step - loss: 0.1071 - val_loss: 0.1072\n",
      "Epoch 15/500\n",
      "115/115 [==============================] - 0s 3ms/step - loss: 0.0345 - val_loss: 0.0544\n",
      "Epoch 16/500\n",
      "115/115 [==============================] - 0s 3ms/step - loss: 0.0340 - val_loss: 0.0415\n",
      "Epoch 17/500\n",
      "115/115 [==============================] - 0s 3ms/step - loss: 11.3814 - val_loss: 0.0191\n",
      "Epoch 18/500\n",
      "115/115 [==============================] - 0s 3ms/step - loss: 0.0425 - val_loss: 0.0221\n",
      "Epoch 19/500\n",
      "115/115 [==============================] - 0s 3ms/step - loss: 0.0329 - val_loss: 0.0954\n",
      "Epoch 20/500\n",
      "115/115 [==============================] - 0s 2ms/step - loss: 0.0323 - val_loss: 0.0435\n",
      "Epoch 21/500\n",
      "115/115 [==============================] - 0s 2ms/step - loss: 0.0321 - val_loss: 0.1025\n",
      "Epoch 22/500\n",
      "115/115 [==============================] - 0s 3ms/step - loss: 0.0318 - val_loss: 0.0595\n",
      "Epoch 23/500\n",
      "115/115 [==============================] - 0s 3ms/step - loss: 0.0311 - val_loss: 0.0180\n",
      "Epoch 24/500\n",
      "115/115 [==============================] - 0s 3ms/step - loss: 0.0311 - val_loss: 0.1142\n",
      "Epoch 25/500\n",
      "115/115 [==============================] - 0s 3ms/step - loss: 0.0313 - val_loss: 0.0529\n",
      "Epoch 26/500\n",
      "115/115 [==============================] - 0s 4ms/step - loss: 0.0302 - val_loss: 0.0340\n",
      "Epoch 27/500\n",
      "115/115 [==============================] - 1s 4ms/step - loss: 0.0293 - val_loss: 0.0342\n",
      "Epoch 28/500\n",
      "115/115 [==============================] - 0s 3ms/step - loss: 0.0286 - val_loss: 0.0263\n",
      "Epoch 29/500\n",
      "115/115 [==============================] - 0s 3ms/step - loss: 0.1409 - val_loss: 0.0729\n",
      "Epoch 30/500\n",
      "115/115 [==============================] - 0s 3ms/step - loss: 22.3222 - val_loss: 296.2984\n",
      "Epoch 31/500\n",
      "115/115 [==============================] - 0s 4ms/step - loss: 4.3735 - val_loss: 0.0558\n",
      "Epoch 32/500\n",
      "115/115 [==============================] - 0s 4ms/step - loss: 0.0255 - val_loss: 0.1120\n",
      "Epoch 33/500\n",
      "115/115 [==============================] - 0s 4ms/step - loss: 0.0248 - val_loss: 0.0353\n",
      "Epoch 00033: early stopping\n"
     ]
    }
   ],
   "source": [
    "r = model.fit(X_train, y_train, epochs = epoch, batch_size = batch_size, \n",
    "              validation_data = (X_test, y_test), verbose = 1, callbacks = [es])"
   ]
  },
  {
   "cell_type": "code",
   "execution_count": 13,
   "metadata": {},
   "outputs": [
    {
     "name": "stdout",
     "output_type": "stream",
     "text": [
      "29/29 [==============================] - 0s 2ms/step - loss: 0.0353\n",
      "0.03531578183174133\n"
     ]
    }
   ],
   "source": [
    "loss_and_metrics = model.evaluate(X_test, y_test, batch_size = 50)\n",
    "print(loss_and_metrics)"
   ]
  },
  {
   "cell_type": "code",
   "execution_count": 14,
   "metadata": {},
   "outputs": [],
   "source": [
    "yhat = model.predict(X_test)\n",
    "yhat2 = model.predict(X_train)"
   ]
  },
  {
   "cell_type": "code",
   "execution_count": 15,
   "metadata": {},
   "outputs": [
    {
     "name": "stdout",
     "output_type": "stream",
     "text": [
      "Test RMSE: 0.18793\n",
      "Train RMSE: 0.15505\n"
     ]
    }
   ],
   "source": [
    "from sklearn.metrics import mean_squared_error\n",
    "from math import sqrt\n",
    "\n",
    "rmse1 = sqrt(mean_squared_error(y_test, yhat))\n",
    "print(\"Test RMSE: %.5f\" % rmse1)\n",
    "\n",
    "rmse2 = sqrt(mean_squared_error(y_train, yhat2))\n",
    "print(\"Train RMSE: %.5f\" % rmse2)"
   ]
  }
 ],
 "metadata": {
  "kernelspec": {
   "display_name": "Python 3",
   "language": "python",
   "name": "python3"
  },
  "language_info": {
   "codemirror_mode": {
    "name": "ipython",
    "version": 3
   },
   "file_extension": ".py",
   "mimetype": "text/x-python",
   "name": "python",
   "nbconvert_exporter": "python",
   "pygments_lexer": "ipython3",
   "version": "3.8.3"
  }
 },
 "nbformat": 4,
 "nbformat_minor": 4
}
