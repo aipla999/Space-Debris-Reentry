{
 "cells": [
  {
   "cell_type": "code",
   "execution_count": 1,
   "metadata": {},
   "outputs": [],
   "source": [
    "import numpy as np\n",
    "import pandas as pd\n",
    "import matplotlib.pyplot as plt\n",
    "import ephem\n",
    "\n",
    "from datetime import datetime\n",
    "%matplotlib qt5"
   ]
  },
  {
   "cell_type": "markdown",
   "metadata": {},
   "source": [
    "# Tiangong Graphs"
   ]
  },
  {
   "cell_type": "code",
   "execution_count": 2,
   "metadata": {},
   "outputs": [
    {
     "data": {
      "text/html": [
       "<div>\n",
       "<style scoped>\n",
       "    .dataframe tbody tr th:only-of-type {\n",
       "        vertical-align: middle;\n",
       "    }\n",
       "\n",
       "    .dataframe tbody tr th {\n",
       "        vertical-align: top;\n",
       "    }\n",
       "\n",
       "    .dataframe thead th {\n",
       "        text-align: right;\n",
       "    }\n",
       "</style>\n",
       "<table border=\"1\" class=\"dataframe\">\n",
       "  <thead>\n",
       "    <tr style=\"text-align: right;\">\n",
       "      <th></th>\n",
       "      <th>0</th>\n",
       "    </tr>\n",
       "  </thead>\n",
       "  <tbody>\n",
       "    <tr>\n",
       "      <th>0</th>\n",
       "      <td>1 37820U 11053A   11272.72488377 -.00002491  0...</td>\n",
       "    </tr>\n",
       "    <tr>\n",
       "      <th>1</th>\n",
       "      <td>2 37820  42.7802 196.4777 0101297 130.5581 230...</td>\n",
       "    </tr>\n",
       "    <tr>\n",
       "      <th>2</th>\n",
       "      <td>1 37820U 11053A   11272.78731558 -.00002687  8...</td>\n",
       "    </tr>\n",
       "    <tr>\n",
       "      <th>3</th>\n",
       "      <td>2 37820  42.7775 196.0736 0115591 131.6747 229...</td>\n",
       "    </tr>\n",
       "    <tr>\n",
       "      <th>4</th>\n",
       "      <td>1 37820U 11053A   11272.86058300 -.00002686  8...</td>\n",
       "    </tr>\n",
       "    <tr>\n",
       "      <th>...</th>\n",
       "      <td>...</td>\n",
       "    </tr>\n",
       "    <tr>\n",
       "      <th>14331</th>\n",
       "      <td>2 37820  42.7382 196.5219 0007050 335.9816  24...</td>\n",
       "    </tr>\n",
       "    <tr>\n",
       "      <th>14332</th>\n",
       "      <td>1 37820U 11053A   18091.67159150  .05839629  9...</td>\n",
       "    </tr>\n",
       "    <tr>\n",
       "      <th>14333</th>\n",
       "      <td>2 37820  42.7393 196.1141 0005983 335.0656  24...</td>\n",
       "    </tr>\n",
       "    <tr>\n",
       "      <th>14334</th>\n",
       "      <td>1 37820U 11053A   18091.67159643  .06702538  9...</td>\n",
       "    </tr>\n",
       "    <tr>\n",
       "      <th>14335</th>\n",
       "      <td>2 37820  42.7393 196.1141 0005983 335.0657  25...</td>\n",
       "    </tr>\n",
       "  </tbody>\n",
       "</table>\n",
       "<p>14336 rows × 1 columns</p>\n",
       "</div>"
      ],
      "text/plain": [
       "                                                       0\n",
       "0      1 37820U 11053A   11272.72488377 -.00002491  0...\n",
       "1      2 37820  42.7802 196.4777 0101297 130.5581 230...\n",
       "2      1 37820U 11053A   11272.78731558 -.00002687  8...\n",
       "3      2 37820  42.7775 196.0736 0115591 131.6747 229...\n",
       "4      1 37820U 11053A   11272.86058300 -.00002686  8...\n",
       "...                                                  ...\n",
       "14331  2 37820  42.7382 196.5219 0007050 335.9816  24...\n",
       "14332  1 37820U 11053A   18091.67159150  .05839629  9...\n",
       "14333  2 37820  42.7393 196.1141 0005983 335.0656  24...\n",
       "14334  1 37820U 11053A   18091.67159643  .06702538  9...\n",
       "14335  2 37820  42.7393 196.1141 0005983 335.0657  25...\n",
       "\n",
       "[14336 rows x 1 columns]"
      ]
     },
     "execution_count": 2,
     "metadata": {},
     "output_type": "execute_result"
    }
   ],
   "source": [
    "Tiangong = pd.read_csv('sat37820.txt', header = None)\n",
    "Tiangong"
   ]
  },
  {
   "cell_type": "code",
   "execution_count": 3,
   "metadata": {},
   "outputs": [],
   "source": [
    "line1 = []\n",
    "line2 = []\n",
    "\n",
    "for i in range(len(Tiangong)):\n",
    "    if(i%2 == 0):\n",
    "        line1.append(\"{}\".format(Tiangong[0][i]))\n",
    "    else:\n",
    "        line2.append(\"{}\".format(Tiangong[0][i]))"
   ]
  },
  {
   "cell_type": "code",
   "execution_count": 4,
   "metadata": {},
   "outputs": [],
   "source": [
    "elevation = []\n",
    "epoch = []\n",
    "\n",
    "for x, y in zip(line1, line2):\n",
    "    tle_rec = ephem.readtle(\"Tiangong\", x, y)\n",
    "    tle_rec.compute('{}'.format(tle_rec._epoch))\n",
    "    elevation.append(tle_rec.elevation / 1000.0)\n",
    "    epoch.append(tle_rec._epoch.datetime())"
   ]
  },
  {
   "cell_type": "code",
   "execution_count": 5,
   "metadata": {},
   "outputs": [],
   "source": [
    "elevation = np.array(elevation)"
   ]
  },
  {
   "cell_type": "code",
   "execution_count": 13,
   "metadata": {},
   "outputs": [
    {
     "data": {
      "text/plain": [
       "<matplotlib.legend.Legend at 0x22e9d315fd0>"
      ]
     },
     "execution_count": 13,
     "metadata": {},
     "output_type": "execute_result"
    }
   ],
   "source": [
    "plt.figure(figsize = (12, 9))\n",
    "plt.title(\"Tiangong Altitude History\", fontsize = 25)\n",
    "plt.plot(epoch, elevation, color = 'green', label = '$Alt(km)$')\n",
    "plt.xlabel('$Date$', fontsize = 25)\n",
    "plt.ylabel('$Altitude(km)$', fontsize = 25)\n",
    "plt.legend(loc = 'upper left')"
   ]
  },
  {
   "cell_type": "code",
   "execution_count": 8,
   "metadata": {},
   "outputs": [
    {
     "data": {
      "text/html": [
       "<div>\n",
       "<style scoped>\n",
       "    .dataframe tbody tr th:only-of-type {\n",
       "        vertical-align: middle;\n",
       "    }\n",
       "\n",
       "    .dataframe tbody tr th {\n",
       "        vertical-align: top;\n",
       "    }\n",
       "\n",
       "    .dataframe thead th {\n",
       "        text-align: right;\n",
       "    }\n",
       "</style>\n",
       "<table border=\"1\" class=\"dataframe\">\n",
       "  <thead>\n",
       "    <tr style=\"text-align: right;\">\n",
       "      <th></th>\n",
       "      <th>0</th>\n",
       "      <th>1</th>\n",
       "      <th>2</th>\n",
       "      <th>3</th>\n",
       "      <th>4</th>\n",
       "      <th>5</th>\n",
       "      <th>6</th>\n",
       "      <th>7</th>\n",
       "      <th>8</th>\n",
       "    </tr>\n",
       "  </thead>\n",
       "  <tbody>\n",
       "    <tr>\n",
       "      <th>0</th>\n",
       "      <td>1</td>\n",
       "      <td>37820U</td>\n",
       "      <td>11053A</td>\n",
       "      <td>11272.72488</td>\n",
       "      <td>-0.000025</td>\n",
       "      <td>00000-0</td>\n",
       "      <td>00000+0</td>\n",
       "      <td>0.000000</td>\n",
       "      <td>19.0</td>\n",
       "    </tr>\n",
       "    <tr>\n",
       "      <th>1</th>\n",
       "      <td>2</td>\n",
       "      <td>37820</td>\n",
       "      <td>42.7802</td>\n",
       "      <td>196.47770</td>\n",
       "      <td>101297.000000</td>\n",
       "      <td>130.5581</td>\n",
       "      <td>230.4736</td>\n",
       "      <td>16.032707</td>\n",
       "      <td>40.0</td>\n",
       "    </tr>\n",
       "    <tr>\n",
       "      <th>2</th>\n",
       "      <td>1</td>\n",
       "      <td>37820U</td>\n",
       "      <td>11053A</td>\n",
       "      <td>11272.78732</td>\n",
       "      <td>-0.000027</td>\n",
       "      <td>85005-5</td>\n",
       "      <td>00000+0</td>\n",
       "      <td>0.000000</td>\n",
       "      <td>17.0</td>\n",
       "    </tr>\n",
       "    <tr>\n",
       "      <th>3</th>\n",
       "      <td>2</td>\n",
       "      <td>37820</td>\n",
       "      <td>42.7775</td>\n",
       "      <td>196.07360</td>\n",
       "      <td>115591.000000</td>\n",
       "      <td>131.6747</td>\n",
       "      <td>229.896</td>\n",
       "      <td>16.009910</td>\n",
       "      <td>36.0</td>\n",
       "    </tr>\n",
       "    <tr>\n",
       "      <th>4</th>\n",
       "      <td>1</td>\n",
       "      <td>37820U</td>\n",
       "      <td>11053A</td>\n",
       "      <td>11272.86058</td>\n",
       "      <td>-0.000027</td>\n",
       "      <td>84969-5</td>\n",
       "      <td>00000+0</td>\n",
       "      <td>0.000000</td>\n",
       "      <td>21.0</td>\n",
       "    </tr>\n",
       "    <tr>\n",
       "      <th>...</th>\n",
       "      <td>...</td>\n",
       "      <td>...</td>\n",
       "      <td>...</td>\n",
       "      <td>...</td>\n",
       "      <td>...</td>\n",
       "      <td>...</td>\n",
       "      <td>...</td>\n",
       "      <td>...</td>\n",
       "      <td>...</td>\n",
       "    </tr>\n",
       "    <tr>\n",
       "      <th>14331</th>\n",
       "      <td>2</td>\n",
       "      <td>37820</td>\n",
       "      <td>42.7382</td>\n",
       "      <td>196.52190</td>\n",
       "      <td>7050.000000</td>\n",
       "      <td>335.9816</td>\n",
       "      <td>24.1336</td>\n",
       "      <td>16.456765</td>\n",
       "      <td>NaN</td>\n",
       "    </tr>\n",
       "    <tr>\n",
       "      <th>14332</th>\n",
       "      <td>1</td>\n",
       "      <td>37820U</td>\n",
       "      <td>11053A</td>\n",
       "      <td>18091.67159</td>\n",
       "      <td>0.058396</td>\n",
       "      <td>93439-5</td>\n",
       "      <td>12719-3</td>\n",
       "      <td>0.000000</td>\n",
       "      <td>9991.0</td>\n",
       "    </tr>\n",
       "    <tr>\n",
       "      <th>14333</th>\n",
       "      <td>2</td>\n",
       "      <td>37820</td>\n",
       "      <td>42.7393</td>\n",
       "      <td>196.11410</td>\n",
       "      <td>5983.000000</td>\n",
       "      <td>335.0656</td>\n",
       "      <td>24.9878</td>\n",
       "      <td>16.464305</td>\n",
       "      <td>NaN</td>\n",
       "    </tr>\n",
       "    <tr>\n",
       "      <th>14334</th>\n",
       "      <td>1</td>\n",
       "      <td>37820U</td>\n",
       "      <td>11053A</td>\n",
       "      <td>18091.67160</td>\n",
       "      <td>0.067025</td>\n",
       "      <td>93469-5</td>\n",
       "      <td>14209-3</td>\n",
       "      <td>0.000000</td>\n",
       "      <td>9996.0</td>\n",
       "    </tr>\n",
       "    <tr>\n",
       "      <th>14335</th>\n",
       "      <td>2</td>\n",
       "      <td>37820</td>\n",
       "      <td>42.7393</td>\n",
       "      <td>196.11410</td>\n",
       "      <td>5983.000000</td>\n",
       "      <td>335.0657</td>\n",
       "      <td>25.0237</td>\n",
       "      <td>16.465606</td>\n",
       "      <td>NaN</td>\n",
       "    </tr>\n",
       "  </tbody>\n",
       "</table>\n",
       "<p>14336 rows × 9 columns</p>\n",
       "</div>"
      ],
      "text/plain": [
       "       0       1        2            3              4         5         6  \\\n",
       "0      1  37820U   11053A  11272.72488      -0.000025   00000-0   00000+0   \n",
       "1      2   37820  42.7802    196.47770  101297.000000  130.5581  230.4736   \n",
       "2      1  37820U   11053A  11272.78732      -0.000027   85005-5   00000+0   \n",
       "3      2   37820  42.7775    196.07360  115591.000000  131.6747   229.896   \n",
       "4      1  37820U   11053A  11272.86058      -0.000027   84969-5   00000+0   \n",
       "...   ..     ...      ...          ...            ...       ...       ...   \n",
       "14331  2   37820  42.7382    196.52190    7050.000000  335.9816   24.1336   \n",
       "14332  1  37820U   11053A  18091.67159       0.058396   93439-5   12719-3   \n",
       "14333  2   37820  42.7393    196.11410    5983.000000  335.0656   24.9878   \n",
       "14334  1  37820U   11053A  18091.67160       0.067025   93469-5   14209-3   \n",
       "14335  2   37820  42.7393    196.11410    5983.000000  335.0657   25.0237   \n",
       "\n",
       "               7       8  \n",
       "0       0.000000    19.0  \n",
       "1      16.032707    40.0  \n",
       "2       0.000000    17.0  \n",
       "3      16.009910    36.0  \n",
       "4       0.000000    21.0  \n",
       "...          ...     ...  \n",
       "14331  16.456765     NaN  \n",
       "14332   0.000000  9991.0  \n",
       "14333  16.464305     NaN  \n",
       "14334   0.000000  9996.0  \n",
       "14335  16.465606     NaN  \n",
       "\n",
       "[14336 rows x 9 columns]"
      ]
     },
     "execution_count": 8,
     "metadata": {},
     "output_type": "execute_result"
    }
   ],
   "source": [
    "Tiangong = pd.read_csv('sat37820.csv', header = None)\n",
    "Tiangong"
   ]
  },
  {
   "cell_type": "code",
   "execution_count": 9,
   "metadata": {},
   "outputs": [
    {
     "data": {
      "text/html": [
       "<div>\n",
       "<style scoped>\n",
       "    .dataframe tbody tr th:only-of-type {\n",
       "        vertical-align: middle;\n",
       "    }\n",
       "\n",
       "    .dataframe tbody tr th {\n",
       "        vertical-align: top;\n",
       "    }\n",
       "\n",
       "    .dataframe thead th {\n",
       "        text-align: right;\n",
       "    }\n",
       "</style>\n",
       "<table border=\"1\" class=\"dataframe\">\n",
       "  <thead>\n",
       "    <tr style=\"text-align: right;\">\n",
       "      <th></th>\n",
       "      <th>2</th>\n",
       "      <th>3</th>\n",
       "      <th>4</th>\n",
       "      <th>5</th>\n",
       "      <th>6</th>\n",
       "      <th>7</th>\n",
       "    </tr>\n",
       "  </thead>\n",
       "  <tbody>\n",
       "    <tr>\n",
       "      <th>1</th>\n",
       "      <td>42.7802</td>\n",
       "      <td>196.4777</td>\n",
       "      <td>101297.0</td>\n",
       "      <td>130.5581</td>\n",
       "      <td>230.4736</td>\n",
       "      <td>16.032707</td>\n",
       "    </tr>\n",
       "    <tr>\n",
       "      <th>3</th>\n",
       "      <td>42.7775</td>\n",
       "      <td>196.0736</td>\n",
       "      <td>115591.0</td>\n",
       "      <td>131.6747</td>\n",
       "      <td>229.896</td>\n",
       "      <td>16.009910</td>\n",
       "    </tr>\n",
       "    <tr>\n",
       "      <th>5</th>\n",
       "      <td>42.7837</td>\n",
       "      <td>195.6141</td>\n",
       "      <td>110069.0</td>\n",
       "      <td>132.4039</td>\n",
       "      <td>291.9162</td>\n",
       "      <td>16.009548</td>\n",
       "    </tr>\n",
       "    <tr>\n",
       "      <th>7</th>\n",
       "      <td>42.783</td>\n",
       "      <td>194.8337</td>\n",
       "      <td>111122.0</td>\n",
       "      <td>133.2177</td>\n",
       "      <td>278.384</td>\n",
       "      <td>16.010370</td>\n",
       "    </tr>\n",
       "    <tr>\n",
       "      <th>9</th>\n",
       "      <td>42.7843</td>\n",
       "      <td>193.5393</td>\n",
       "      <td>110816.0</td>\n",
       "      <td>135.6714</td>\n",
       "      <td>17.3939</td>\n",
       "      <td>16.012015</td>\n",
       "    </tr>\n",
       "    <tr>\n",
       "      <th>...</th>\n",
       "      <td>...</td>\n",
       "      <td>...</td>\n",
       "      <td>...</td>\n",
       "      <td>...</td>\n",
       "      <td>...</td>\n",
       "      <td>...</td>\n",
       "    </tr>\n",
       "    <tr>\n",
       "      <th>14327</th>\n",
       "      <td>42.7386</td>\n",
       "      <td>197.7481</td>\n",
       "      <td>6718.0</td>\n",
       "      <td>339.4173</td>\n",
       "      <td>21.5137</td>\n",
       "      <td>16.435739</td>\n",
       "    </tr>\n",
       "    <tr>\n",
       "      <th>14329</th>\n",
       "      <td>42.7393</td>\n",
       "      <td>197.3406</td>\n",
       "      <td>6205.0</td>\n",
       "      <td>338.9313</td>\n",
       "      <td>21.1427</td>\n",
       "      <td>16.442018</td>\n",
       "    </tr>\n",
       "    <tr>\n",
       "      <th>14331</th>\n",
       "      <td>42.7382</td>\n",
       "      <td>196.5219</td>\n",
       "      <td>7050.0</td>\n",
       "      <td>335.9816</td>\n",
       "      <td>24.1336</td>\n",
       "      <td>16.456765</td>\n",
       "    </tr>\n",
       "    <tr>\n",
       "      <th>14333</th>\n",
       "      <td>42.7393</td>\n",
       "      <td>196.1141</td>\n",
       "      <td>5983.0</td>\n",
       "      <td>335.0656</td>\n",
       "      <td>24.9878</td>\n",
       "      <td>16.464305</td>\n",
       "    </tr>\n",
       "    <tr>\n",
       "      <th>14335</th>\n",
       "      <td>42.7393</td>\n",
       "      <td>196.1141</td>\n",
       "      <td>5983.0</td>\n",
       "      <td>335.0657</td>\n",
       "      <td>25.0237</td>\n",
       "      <td>16.465606</td>\n",
       "    </tr>\n",
       "  </tbody>\n",
       "</table>\n",
       "<p>7168 rows × 6 columns</p>\n",
       "</div>"
      ],
      "text/plain": [
       "             2         3         4         5         6          7\n",
       "1      42.7802  196.4777  101297.0  130.5581  230.4736  16.032707\n",
       "3      42.7775  196.0736  115591.0  131.6747   229.896  16.009910\n",
       "5      42.7837  195.6141  110069.0  132.4039  291.9162  16.009548\n",
       "7       42.783  194.8337  111122.0  133.2177   278.384  16.010370\n",
       "9      42.7843  193.5393  110816.0  135.6714   17.3939  16.012015\n",
       "...        ...       ...       ...       ...       ...        ...\n",
       "14327  42.7386  197.7481    6718.0  339.4173   21.5137  16.435739\n",
       "14329  42.7393  197.3406    6205.0  338.9313   21.1427  16.442018\n",
       "14331  42.7382  196.5219    7050.0  335.9816   24.1336  16.456765\n",
       "14333  42.7393  196.1141    5983.0  335.0656   24.9878  16.464305\n",
       "14335  42.7393  196.1141    5983.0  335.0657   25.0237  16.465606\n",
       "\n",
       "[7168 rows x 6 columns]"
      ]
     },
     "execution_count": 9,
     "metadata": {},
     "output_type": "execute_result"
    }
   ],
   "source": [
    "Tiangong = Tiangong[Tiangong.index % 2 != 0].drop(0, axis = 1).drop(1, axis = 1).drop(8, axis = 1)\n",
    "Tiangong"
   ]
  },
  {
   "cell_type": "code",
   "execution_count": 10,
   "metadata": {},
   "outputs": [],
   "source": [
    "i = Tiangong.iloc[:, 0].values\n",
    "\n",
    "for a in range(len(i)):\n",
    "    i[a] = float(i[a])\n",
    "    if(i[a] < 42.68):\n",
    "        print(i[a])"
   ]
  },
  {
   "cell_type": "code",
   "execution_count": 14,
   "metadata": {},
   "outputs": [
    {
     "data": {
      "text/plain": [
       "<matplotlib.legend.Legend at 0x22e9d3b1460>"
      ]
     },
     "execution_count": 14,
     "metadata": {},
     "output_type": "execute_result"
    }
   ],
   "source": [
    "plt.figure(figsize = (12, 9))\n",
    "plt.title(\"Tiangong Inclination($i$) History\", fontsize = 25)\n",
    "plt.plot(epoch, i, color = 'green', label = '$Inclination(^{\\circ})$')\n",
    "plt.xlabel('$Date$', fontsize = 25)\n",
    "plt.ylabel('$Inclination(^{\\circ})$', fontsize = 25)\n",
    "plt.legend(loc = 'upper left')"
   ]
  },
  {
   "cell_type": "code",
   "execution_count": 15,
   "metadata": {},
   "outputs": [],
   "source": [
    "raan = Tiangong.iloc[:, 1].values\n",
    "\n",
    "for a in range(len(raan)):\n",
    "    raan[a] = float(raan[a])"
   ]
  },
  {
   "cell_type": "code",
   "execution_count": 16,
   "metadata": {},
   "outputs": [
    {
     "data": {
      "text/plain": [
       "<matplotlib.legend.Legend at 0x22e9d460e50>"
      ]
     },
     "execution_count": 16,
     "metadata": {},
     "output_type": "execute_result"
    }
   ],
   "source": [
    "plt.figure(figsize = (12, 9))\n",
    "plt.title(\"Tiangong Right Ascension of the Ascending Node($\\Omega$) History\", fontsize = 25)\n",
    "plt.plot(epoch, raan, color = 'green', label = '$RAAN(^{\\circ})$')\n",
    "plt.xlabel('$Date$', fontsize = 25)\n",
    "plt.ylabel('$RAAN(^{\\circ})$', fontsize = 25)\n",
    "plt.legend(loc = 'upper left')"
   ]
  },
  {
   "cell_type": "code",
   "execution_count": 17,
   "metadata": {},
   "outputs": [],
   "source": [
    "e = Tiangong.iloc[:, 2].values\n",
    "\n",
    "for a in range(len(e)):\n",
    "    if (0 < int(e[a]) < 10):\n",
    "        e[a] = float('0.000000' + str(int(e[a])))\n",
    "    elif (10 <= int(e[a]) < 100):\n",
    "        e[a] = float('0.00000' + str(int(e[a])))\n",
    "    elif (100 <= int(e[a]) < 1000):\n",
    "        e[a] = float('0.0000' + str(int(e[a])))\n",
    "    elif (1000 <= int(e[a]) < 10000):\n",
    "        e[a] = float('0.000' + str(int(e[a])))\n",
    "    elif (10000 <= int(e[a]) < 100000):\n",
    "        e[a] = float('0.00' + str(int(e[a])))\n",
    "    elif (100000 <= int(e[a]) < 1000000):\n",
    "        e[a] = float('0.0' + str(int(e[a])))\n",
    "    elif (1000000 <= int(e[a]) < 10000000):\n",
    "        e[a] = float('0.' + str(int(e[a])))\n",
    "    else:\n",
    "        raise ValueError"
   ]
  },
  {
   "cell_type": "code",
   "execution_count": 18,
   "metadata": {},
   "outputs": [
    {
     "data": {
      "text/plain": [
       "<matplotlib.legend.Legend at 0x22e9d395fa0>"
      ]
     },
     "execution_count": 18,
     "metadata": {},
     "output_type": "execute_result"
    }
   ],
   "source": [
    "plt.figure(figsize = (12, 9))\n",
    "plt.title(\"Tiangong Eccentricity($e$) History\", fontsize = 25)\n",
    "plt.plot(epoch, e, color = 'green', label = '$Eccentricity$')\n",
    "plt.xlabel('$Date$', fontsize = 25)\n",
    "plt.ylabel('$Eccentricity$', fontsize = 25)\n",
    "plt.legend(loc = 'upper left')"
   ]
  },
  {
   "cell_type": "code",
   "execution_count": 19,
   "metadata": {},
   "outputs": [],
   "source": [
    "aop = Tiangong.iloc[:, 3].values\n",
    "\n",
    "for a in range(len(aop)):\n",
    "    aop[a] = float(aop[a])"
   ]
  },
  {
   "cell_type": "code",
   "execution_count": 20,
   "metadata": {},
   "outputs": [
    {
     "data": {
      "text/plain": [
       "<matplotlib.legend.Legend at 0x22e9d41c250>"
      ]
     },
     "execution_count": 20,
     "metadata": {},
     "output_type": "execute_result"
    }
   ],
   "source": [
    "plt.figure(figsize = (12, 9))\n",
    "plt.title(\"Tiangong Argument of Perigee($\\omega$) History\", fontsize = 25)\n",
    "plt.plot(epoch, aop, color = 'green', label = '$AoP(^{\\circ})$')\n",
    "plt.xlabel('$Date$', fontsize = 25)\n",
    "plt.ylabel('$AoP(^{\\circ})$', fontsize = 25)\n",
    "plt.legend(loc = 'upper left')"
   ]
  },
  {
   "cell_type": "code",
   "execution_count": 21,
   "metadata": {},
   "outputs": [],
   "source": [
    "M = Tiangong.iloc[:, 4].values\n",
    "\n",
    "for a in range(len(M)):\n",
    "    M[a] = float(M[a])"
   ]
  },
  {
   "cell_type": "code",
   "execution_count": 22,
   "metadata": {},
   "outputs": [
    {
     "data": {
      "text/plain": [
       "<matplotlib.legend.Legend at 0x22e968d7c70>"
      ]
     },
     "execution_count": 22,
     "metadata": {},
     "output_type": "execute_result"
    }
   ],
   "source": [
    "plt.figure(figsize = (12, 9))\n",
    "plt.title(\"Tiangong Mean Anomaly($M$) History\", fontsize = 25)\n",
    "plt.plot(epoch, M, color = 'green', label = '$M(^{\\circ})$')\n",
    "plt.xlabel('$Date$', fontsize = 25)\n",
    "plt.ylabel('$M(^{\\circ})$', fontsize = 25)\n",
    "plt.legend(loc = 'upper left')"
   ]
  },
  {
   "cell_type": "code",
   "execution_count": 23,
   "metadata": {},
   "outputs": [],
   "source": [
    "n = Tiangong.iloc[:, 5].values\n",
    "\n",
    "for a in range(len(n)):\n",
    "    n[a] = float(n[a])"
   ]
  },
  {
   "cell_type": "code",
   "execution_count": 24,
   "metadata": {},
   "outputs": [
    {
     "data": {
      "text/plain": [
       "<matplotlib.legend.Legend at 0x22e9b5cda90>"
      ]
     },
     "execution_count": 24,
     "metadata": {},
     "output_type": "execute_result"
    }
   ],
   "source": [
    "plt.figure(figsize = (12, 9))\n",
    "plt.title(\"Tiangong Mean Motion($n$) History\", fontsize = 25)\n",
    "plt.plot(epoch, n, color = 'green', label = '$n$')\n",
    "plt.xlabel('$Date$', fontsize = 25)\n",
    "plt.ylabel('$n$', fontsize = 25)\n",
    "plt.legend(loc = 'upper left')"
   ]
  },
  {
   "cell_type": "markdown",
   "metadata": {},
   "source": [
    "# SALYUT7 Graphs"
   ]
  },
  {
   "cell_type": "code",
   "execution_count": 25,
   "metadata": {},
   "outputs": [
    {
     "data": {
      "text/html": [
       "<div>\n",
       "<style scoped>\n",
       "    .dataframe tbody tr th:only-of-type {\n",
       "        vertical-align: middle;\n",
       "    }\n",
       "\n",
       "    .dataframe tbody tr th {\n",
       "        vertical-align: top;\n",
       "    }\n",
       "\n",
       "    .dataframe thead th {\n",
       "        text-align: right;\n",
       "    }\n",
       "</style>\n",
       "<table border=\"1\" class=\"dataframe\">\n",
       "  <thead>\n",
       "    <tr style=\"text-align: right;\">\n",
       "      <th></th>\n",
       "      <th>0</th>\n",
       "    </tr>\n",
       "  </thead>\n",
       "  <tbody>\n",
       "    <tr>\n",
       "      <th>0</th>\n",
       "      <td>1 13138U 82033A   82110.00103710  .00210141  1...</td>\n",
       "    </tr>\n",
       "    <tr>\n",
       "      <th>1</th>\n",
       "      <td>2 13138  51.5840 152.3930 0034652  70.1547 290...</td>\n",
       "    </tr>\n",
       "    <tr>\n",
       "      <th>2</th>\n",
       "      <td>1 13138U 82033A   82110.06292948  .00210514  1...</td>\n",
       "    </tr>\n",
       "    <tr>\n",
       "      <th>3</th>\n",
       "      <td>2 13138  51.5920 152.0524 0035878  89.3163 271...</td>\n",
       "    </tr>\n",
       "    <tr>\n",
       "      <th>4</th>\n",
       "      <td>1 13138U 82033A   82110.31057856  .00214849  1...</td>\n",
       "    </tr>\n",
       "    <tr>\n",
       "      <th>...</th>\n",
       "      <td>...</td>\n",
       "    </tr>\n",
       "    <tr>\n",
       "      <th>8915</th>\n",
       "      <td>2 13138  51.5735 165.5435 0005723 280.2458  79...</td>\n",
       "    </tr>\n",
       "    <tr>\n",
       "      <th>8916</th>\n",
       "      <td>1 13138U 82033A   91038.04455457  .13160475  6...</td>\n",
       "    </tr>\n",
       "    <tr>\n",
       "      <th>8917</th>\n",
       "      <td>2 13138  51.5668 164.1584 0007794 234.9886 125...</td>\n",
       "    </tr>\n",
       "    <tr>\n",
       "      <th>8918</th>\n",
       "      <td>1 13138U 82033A   91038.10489012  .42311814  6...</td>\n",
       "    </tr>\n",
       "    <tr>\n",
       "      <th>8919</th>\n",
       "      <td>2 13138  51.5623 163.8094 0005221 263.6371  96...</td>\n",
       "    </tr>\n",
       "  </tbody>\n",
       "</table>\n",
       "<p>8920 rows × 1 columns</p>\n",
       "</div>"
      ],
      "text/plain": [
       "                                                      0\n",
       "0     1 13138U 82033A   82110.00103710  .00210141  1...\n",
       "1     2 13138  51.5840 152.3930 0034652  70.1547 290...\n",
       "2     1 13138U 82033A   82110.06292948  .00210514  1...\n",
       "3     2 13138  51.5920 152.0524 0035878  89.3163 271...\n",
       "4     1 13138U 82033A   82110.31057856  .00214849  1...\n",
       "...                                                 ...\n",
       "8915  2 13138  51.5735 165.5435 0005723 280.2458  79...\n",
       "8916  1 13138U 82033A   91038.04455457  .13160475  6...\n",
       "8917  2 13138  51.5668 164.1584 0007794 234.9886 125...\n",
       "8918  1 13138U 82033A   91038.10489012  .42311814  6...\n",
       "8919  2 13138  51.5623 163.8094 0005221 263.6371  96...\n",
       "\n",
       "[8920 rows x 1 columns]"
      ]
     },
     "execution_count": 25,
     "metadata": {},
     "output_type": "execute_result"
    }
   ],
   "source": [
    "Salyut7 = pd.read_csv('sat13138.txt', header = None)\n",
    "Salyut7"
   ]
  },
  {
   "cell_type": "code",
   "execution_count": 26,
   "metadata": {},
   "outputs": [],
   "source": [
    "line1 = []\n",
    "line2 = []\n",
    "\n",
    "for i in range(len(Salyut7)):\n",
    "    if(i%2 == 0):\n",
    "        line1.append(\"{}\".format(Salyut7[0][i]))\n",
    "    else:\n",
    "        line2.append(\"{}\".format(Salyut7[0][i]))"
   ]
  },
  {
   "cell_type": "code",
   "execution_count": 27,
   "metadata": {},
   "outputs": [],
   "source": [
    "elevation = []\n",
    "epoch = []\n",
    "\n",
    "for x, y in zip(line1, line2):\n",
    "    tle_rec = ephem.readtle(\"Kvant\", x, y)\n",
    "    tle_rec.compute('{}'.format(tle_rec._epoch))\n",
    "    elevation.append(tle_rec.elevation / 1000.0)\n",
    "    epoch.append(tle_rec._epoch.datetime())"
   ]
  },
  {
   "cell_type": "code",
   "execution_count": 28,
   "metadata": {},
   "outputs": [],
   "source": [
    "elevation = np.array(elevation)"
   ]
  },
  {
   "cell_type": "code",
   "execution_count": 29,
   "metadata": {},
   "outputs": [
    {
     "data": {
      "text/plain": [
       "<matplotlib.legend.Legend at 0x22e9caecf70>"
      ]
     },
     "execution_count": 29,
     "metadata": {},
     "output_type": "execute_result"
    }
   ],
   "source": [
    "plt.figure(figsize = (12, 9))\n",
    "plt.title(\"Salyut7 Altitude History\", fontsize = 25)\n",
    "plt.plot(epoch, elevation, color = 'blue', label = '$Alt(km)$')\n",
    "plt.xlabel('$Date$', fontsize = 25)\n",
    "plt.ylabel('$Altitude(km)$', fontsize = 25)\n",
    "plt.legend(loc = 'upper left')"
   ]
  },
  {
   "cell_type": "code",
   "execution_count": 30,
   "metadata": {},
   "outputs": [
    {
     "data": {
      "text/html": [
       "<div>\n",
       "<style scoped>\n",
       "    .dataframe tbody tr th:only-of-type {\n",
       "        vertical-align: middle;\n",
       "    }\n",
       "\n",
       "    .dataframe tbody tr th {\n",
       "        vertical-align: top;\n",
       "    }\n",
       "\n",
       "    .dataframe thead th {\n",
       "        text-align: right;\n",
       "    }\n",
       "</style>\n",
       "<table border=\"1\" class=\"dataframe\">\n",
       "  <thead>\n",
       "    <tr style=\"text-align: right;\">\n",
       "      <th></th>\n",
       "      <th>0</th>\n",
       "      <th>1</th>\n",
       "      <th>2</th>\n",
       "      <th>3</th>\n",
       "      <th>4</th>\n",
       "      <th>5</th>\n",
       "      <th>6</th>\n",
       "      <th>7</th>\n",
       "      <th>8</th>\n",
       "    </tr>\n",
       "  </thead>\n",
       "  <tbody>\n",
       "    <tr>\n",
       "      <th>0</th>\n",
       "      <td>1</td>\n",
       "      <td>13138U</td>\n",
       "      <td>82033A</td>\n",
       "      <td>82110.00104</td>\n",
       "      <td>0.00210141</td>\n",
       "      <td>13539-4</td>\n",
       "      <td>14999-3</td>\n",
       "      <td>0.000000</td>\n",
       "      <td>20.0</td>\n",
       "    </tr>\n",
       "    <tr>\n",
       "      <th>1</th>\n",
       "      <td>2</td>\n",
       "      <td>13138</td>\n",
       "      <td>51.584</td>\n",
       "      <td>152.39300</td>\n",
       "      <td>34652</td>\n",
       "      <td>70.1547</td>\n",
       "      <td>290.4436</td>\n",
       "      <td>16.140083</td>\n",
       "      <td>53.0</td>\n",
       "    </tr>\n",
       "    <tr>\n",
       "      <th>2</th>\n",
       "      <td>1</td>\n",
       "      <td>13138U</td>\n",
       "      <td>82033A</td>\n",
       "      <td>82110.06293</td>\n",
       "      <td>0.00210514</td>\n",
       "      <td>13945-4</td>\n",
       "      <td>14999-3</td>\n",
       "      <td>0.000000</td>\n",
       "      <td>34.0</td>\n",
       "    </tr>\n",
       "    <tr>\n",
       "      <th>3</th>\n",
       "      <td>2</td>\n",
       "      <td>13138</td>\n",
       "      <td>51.592</td>\n",
       "      <td>152.05240</td>\n",
       "      <td>35878</td>\n",
       "      <td>89.3163</td>\n",
       "      <td>271.2605</td>\n",
       "      <td>16.139311</td>\n",
       "      <td>62.0</td>\n",
       "    </tr>\n",
       "    <tr>\n",
       "      <th>4</th>\n",
       "      <td>1</td>\n",
       "      <td>13138U</td>\n",
       "      <td>82033A</td>\n",
       "      <td>82110.31058</td>\n",
       "      <td>0.00214849</td>\n",
       "      <td>15210-4</td>\n",
       "      <td>14999-3</td>\n",
       "      <td>0.000000</td>\n",
       "      <td>42.0</td>\n",
       "    </tr>\n",
       "    <tr>\n",
       "      <th>...</th>\n",
       "      <td>...</td>\n",
       "      <td>...</td>\n",
       "      <td>...</td>\n",
       "      <td>...</td>\n",
       "      <td>...</td>\n",
       "      <td>...</td>\n",
       "      <td>...</td>\n",
       "      <td>...</td>\n",
       "      <td>...</td>\n",
       "    </tr>\n",
       "    <tr>\n",
       "      <th>8915</th>\n",
       "      <td>2</td>\n",
       "      <td>13138</td>\n",
       "      <td>51.5735</td>\n",
       "      <td>165.54350</td>\n",
       "      <td>5723</td>\n",
       "      <td>280.2458</td>\n",
       "      <td>79.8825</td>\n",
       "      <td>16.466890</td>\n",
       "      <td>NaN</td>\n",
       "    </tr>\n",
       "    <tr>\n",
       "      <th>8916</th>\n",
       "      <td>1</td>\n",
       "      <td>13138U</td>\n",
       "      <td>82033A</td>\n",
       "      <td>91038.04455</td>\n",
       "      <td>0.13160475</td>\n",
       "      <td>61325-4</td>\n",
       "      <td>97377-4</td>\n",
       "      <td>0.000000</td>\n",
       "      <td>7956.0</td>\n",
       "    </tr>\n",
       "    <tr>\n",
       "      <th>8917</th>\n",
       "      <td>2</td>\n",
       "      <td>13138</td>\n",
       "      <td>51.5668</td>\n",
       "      <td>164.15840</td>\n",
       "      <td>7794</td>\n",
       "      <td>234.9886</td>\n",
       "      <td>125.7113</td>\n",
       "      <td>16.523621</td>\n",
       "      <td>NaN</td>\n",
       "    </tr>\n",
       "    <tr>\n",
       "      <th>8918</th>\n",
       "      <td>1</td>\n",
       "      <td>13138U</td>\n",
       "      <td>82033A</td>\n",
       "      <td>91038.10489</td>\n",
       "      <td>0.42311814</td>\n",
       "      <td>62585-4</td>\n",
       "      <td>17046-3</td>\n",
       "      <td>0.000000</td>\n",
       "      <td>7968.0</td>\n",
       "    </tr>\n",
       "    <tr>\n",
       "      <th>8919</th>\n",
       "      <td>2</td>\n",
       "      <td>13138</td>\n",
       "      <td>51.5623</td>\n",
       "      <td>163.80940</td>\n",
       "      <td>5221</td>\n",
       "      <td>263.6371</td>\n",
       "      <td>96.6145</td>\n",
       "      <td>16.567669</td>\n",
       "      <td>NaN</td>\n",
       "    </tr>\n",
       "  </tbody>\n",
       "</table>\n",
       "<p>8920 rows × 9 columns</p>\n",
       "</div>"
      ],
      "text/plain": [
       "      0       1        2            3           4         5         6  \\\n",
       "0     1  13138U   82033A  82110.00104  0.00210141   13539-4   14999-3   \n",
       "1     2   13138   51.584    152.39300       34652   70.1547  290.4436   \n",
       "2     1  13138U   82033A  82110.06293  0.00210514   13945-4   14999-3   \n",
       "3     2   13138   51.592    152.05240       35878   89.3163  271.2605   \n",
       "4     1  13138U   82033A  82110.31058  0.00214849   15210-4   14999-3   \n",
       "...  ..     ...      ...          ...         ...       ...       ...   \n",
       "8915  2   13138  51.5735    165.54350        5723  280.2458   79.8825   \n",
       "8916  1  13138U   82033A  91038.04455  0.13160475   61325-4   97377-4   \n",
       "8917  2   13138  51.5668    164.15840        7794  234.9886  125.7113   \n",
       "8918  1  13138U   82033A  91038.10489  0.42311814   62585-4   17046-3   \n",
       "8919  2   13138  51.5623    163.80940        5221  263.6371   96.6145   \n",
       "\n",
       "              7       8  \n",
       "0      0.000000    20.0  \n",
       "1     16.140083    53.0  \n",
       "2      0.000000    34.0  \n",
       "3     16.139311    62.0  \n",
       "4      0.000000    42.0  \n",
       "...         ...     ...  \n",
       "8915  16.466890     NaN  \n",
       "8916   0.000000  7956.0  \n",
       "8917  16.523621     NaN  \n",
       "8918   0.000000  7968.0  \n",
       "8919  16.567669     NaN  \n",
       "\n",
       "[8920 rows x 9 columns]"
      ]
     },
     "execution_count": 30,
     "metadata": {},
     "output_type": "execute_result"
    }
   ],
   "source": [
    "Salyut7 = pd.read_csv('sat13138.csv', header = None)\n",
    "Salyut7"
   ]
  },
  {
   "cell_type": "code",
   "execution_count": 31,
   "metadata": {},
   "outputs": [
    {
     "data": {
      "text/html": [
       "<div>\n",
       "<style scoped>\n",
       "    .dataframe tbody tr th:only-of-type {\n",
       "        vertical-align: middle;\n",
       "    }\n",
       "\n",
       "    .dataframe tbody tr th {\n",
       "        vertical-align: top;\n",
       "    }\n",
       "\n",
       "    .dataframe thead th {\n",
       "        text-align: right;\n",
       "    }\n",
       "</style>\n",
       "<table border=\"1\" class=\"dataframe\">\n",
       "  <thead>\n",
       "    <tr style=\"text-align: right;\">\n",
       "      <th></th>\n",
       "      <th>2</th>\n",
       "      <th>3</th>\n",
       "      <th>4</th>\n",
       "      <th>5</th>\n",
       "      <th>6</th>\n",
       "      <th>7</th>\n",
       "    </tr>\n",
       "  </thead>\n",
       "  <tbody>\n",
       "    <tr>\n",
       "      <th>1</th>\n",
       "      <td>51.584</td>\n",
       "      <td>152.3930</td>\n",
       "      <td>34652</td>\n",
       "      <td>70.1547</td>\n",
       "      <td>290.4436</td>\n",
       "      <td>16.140083</td>\n",
       "    </tr>\n",
       "    <tr>\n",
       "      <th>3</th>\n",
       "      <td>51.592</td>\n",
       "      <td>152.0524</td>\n",
       "      <td>35878</td>\n",
       "      <td>89.3163</td>\n",
       "      <td>271.2605</td>\n",
       "      <td>16.139311</td>\n",
       "    </tr>\n",
       "    <tr>\n",
       "      <th>5</th>\n",
       "      <td>51.5909</td>\n",
       "      <td>150.6900</td>\n",
       "      <td>36449</td>\n",
       "      <td>95.1598</td>\n",
       "      <td>265.4717</td>\n",
       "      <td>16.141706</td>\n",
       "    </tr>\n",
       "    <tr>\n",
       "      <th>7</th>\n",
       "      <td>51.592</td>\n",
       "      <td>149.6737</td>\n",
       "      <td>35035</td>\n",
       "      <td>98.0264</td>\n",
       "      <td>262.6399</td>\n",
       "      <td>16.145429</td>\n",
       "    </tr>\n",
       "    <tr>\n",
       "      <th>9</th>\n",
       "      <td>51.592</td>\n",
       "      <td>145.9602</td>\n",
       "      <td>34954</td>\n",
       "      <td>102.4815</td>\n",
       "      <td>257.945</td>\n",
       "      <td>16.154857</td>\n",
       "    </tr>\n",
       "    <tr>\n",
       "      <th>...</th>\n",
       "      <td>...</td>\n",
       "      <td>...</td>\n",
       "      <td>...</td>\n",
       "      <td>...</td>\n",
       "      <td>...</td>\n",
       "      <td>...</td>\n",
       "    </tr>\n",
       "    <tr>\n",
       "      <th>8911</th>\n",
       "      <td>51.5775</td>\n",
       "      <td>166.5811</td>\n",
       "      <td>5583</td>\n",
       "      <td>274.0678</td>\n",
       "      <td>86.1204</td>\n",
       "      <td>16.442192</td>\n",
       "    </tr>\n",
       "    <tr>\n",
       "      <th>8913</th>\n",
       "      <td>51.5762</td>\n",
       "      <td>166.2353</td>\n",
       "      <td>6107</td>\n",
       "      <td>276.96</td>\n",
       "      <td>83.0601</td>\n",
       "      <td>16.448579</td>\n",
       "    </tr>\n",
       "    <tr>\n",
       "      <th>8915</th>\n",
       "      <td>51.5735</td>\n",
       "      <td>165.5435</td>\n",
       "      <td>5723</td>\n",
       "      <td>280.2458</td>\n",
       "      <td>79.8825</td>\n",
       "      <td>16.466890</td>\n",
       "    </tr>\n",
       "    <tr>\n",
       "      <th>8917</th>\n",
       "      <td>51.5668</td>\n",
       "      <td>164.1584</td>\n",
       "      <td>7794</td>\n",
       "      <td>234.9886</td>\n",
       "      <td>125.7113</td>\n",
       "      <td>16.523621</td>\n",
       "    </tr>\n",
       "    <tr>\n",
       "      <th>8919</th>\n",
       "      <td>51.5623</td>\n",
       "      <td>163.8094</td>\n",
       "      <td>5221</td>\n",
       "      <td>263.6371</td>\n",
       "      <td>96.6145</td>\n",
       "      <td>16.567669</td>\n",
       "    </tr>\n",
       "  </tbody>\n",
       "</table>\n",
       "<p>4460 rows × 6 columns</p>\n",
       "</div>"
      ],
      "text/plain": [
       "            2         3      4         5         6          7\n",
       "1      51.584  152.3930  34652   70.1547  290.4436  16.140083\n",
       "3      51.592  152.0524  35878   89.3163  271.2605  16.139311\n",
       "5     51.5909  150.6900  36449   95.1598  265.4717  16.141706\n",
       "7      51.592  149.6737  35035   98.0264  262.6399  16.145429\n",
       "9      51.592  145.9602  34954  102.4815   257.945  16.154857\n",
       "...       ...       ...    ...       ...       ...        ...\n",
       "8911  51.5775  166.5811   5583  274.0678   86.1204  16.442192\n",
       "8913  51.5762  166.2353   6107    276.96   83.0601  16.448579\n",
       "8915  51.5735  165.5435   5723  280.2458   79.8825  16.466890\n",
       "8917  51.5668  164.1584   7794  234.9886  125.7113  16.523621\n",
       "8919  51.5623  163.8094   5221  263.6371   96.6145  16.567669\n",
       "\n",
       "[4460 rows x 6 columns]"
      ]
     },
     "execution_count": 31,
     "metadata": {},
     "output_type": "execute_result"
    }
   ],
   "source": [
    "Salyut7 = Salyut7[Salyut7.index % 2 != 0].drop(0, axis = 1).drop(1, axis = 1).drop(8, axis = 1)\n",
    "Salyut7"
   ]
  },
  {
   "cell_type": "code",
   "execution_count": 32,
   "metadata": {},
   "outputs": [],
   "source": [
    "i = Salyut7.iloc[:, 0].values\n",
    "\n",
    "for a in range(len(i)):\n",
    "    i[a] = float(i[a])\n",
    "    if (i[a] > 61.5):\n",
    "        i[a] = 51.57"
   ]
  },
  {
   "cell_type": "code",
   "execution_count": 33,
   "metadata": {},
   "outputs": [
    {
     "data": {
      "text/plain": [
       "<matplotlib.legend.Legend at 0x22e9cb21190>"
      ]
     },
     "execution_count": 33,
     "metadata": {},
     "output_type": "execute_result"
    }
   ],
   "source": [
    "plt.figure(figsize = (12, 9))\n",
    "plt.title(\"Salyut7 Inclination($i$) History\", fontsize = 25)\n",
    "plt.plot(epoch, i, color = 'blue', label = '$Inclination(^{\\circ})$')\n",
    "plt.xlabel('$Date$', fontsize = 25)\n",
    "plt.ylabel('$Inclination(^{\\circ})$', fontsize = 25)\n",
    "plt.legend(loc = 'upper left')"
   ]
  },
  {
   "cell_type": "code",
   "execution_count": 34,
   "metadata": {},
   "outputs": [],
   "source": [
    "raan = Salyut7.iloc[:, 1].values\n",
    "\n",
    "for a in range(len(raan)):\n",
    "    raan[a] = float(raan[a])"
   ]
  },
  {
   "cell_type": "code",
   "execution_count": 35,
   "metadata": {},
   "outputs": [
    {
     "data": {
      "text/plain": [
       "<matplotlib.legend.Legend at 0x22e9f67ca30>"
      ]
     },
     "execution_count": 35,
     "metadata": {},
     "output_type": "execute_result"
    }
   ],
   "source": [
    "plt.figure(figsize = (12, 9))\n",
    "plt.title(\"Salyut7 Right Ascension of the Ascending Node($\\Omega$) History\", fontsize = 25)\n",
    "plt.plot(epoch, raan, color = 'blue', label = '$RAAN(^{\\circ})$')\n",
    "plt.xlabel('$Date$', fontsize = 25)\n",
    "plt.ylabel('$RAAN(^{\\circ})$', fontsize = 25)\n",
    "plt.legend(loc = 'upper left')"
   ]
  },
  {
   "cell_type": "code",
   "execution_count": 36,
   "metadata": {},
   "outputs": [],
   "source": [
    "e = Salyut7.iloc[:, 2].values\n",
    "\n",
    "for a in range(len(e)):\n",
    "    if (0 < int(e[a]) < 10):\n",
    "        e[a] = float('0.000000' + str(int(e[a])))\n",
    "    elif (10 <= int(e[a]) < 100):\n",
    "        e[a] = float('0.00000' + str(int(e[a])))\n",
    "    elif (100 <= int(e[a]) < 1000):\n",
    "        e[a] = float('0.0000' + str(int(e[a])))\n",
    "    elif (1000 <= int(e[a]) < 10000):\n",
    "        e[a] = float('0.000' + str(int(e[a])))\n",
    "    elif (10000 <= int(e[a]) < 100000):\n",
    "        e[a] = float('0.00' + str(int(e[a])))\n",
    "    elif (100000 <= int(e[a]) < 1000000):\n",
    "        e[a] = float('0.0' + str(int(e[a])))\n",
    "    elif (1000000 <= int(e[a]) < 10000000):\n",
    "        e[a] = float('0.' + str(int(e[a])))\n",
    "    else:\n",
    "        raise ValueError"
   ]
  },
  {
   "cell_type": "code",
   "execution_count": 37,
   "metadata": {},
   "outputs": [
    {
     "data": {
      "text/plain": [
       "<matplotlib.legend.Legend at 0x22e9f884430>"
      ]
     },
     "execution_count": 37,
     "metadata": {},
     "output_type": "execute_result"
    }
   ],
   "source": [
    "plt.figure(figsize = (12, 9))\n",
    "plt.title(\"Salyut7 Eccentricity($e$) History\", fontsize = 25)\n",
    "plt.plot(epoch, e, color = 'blue', label = '$Eccentricity$')\n",
    "plt.xlabel('$Date$', fontsize = 25)\n",
    "plt.ylabel('$Eccentricity$', fontsize = 25)\n",
    "plt.legend(loc = 'upper left')"
   ]
  },
  {
   "cell_type": "code",
   "execution_count": 38,
   "metadata": {},
   "outputs": [],
   "source": [
    "aop = Salyut7.iloc[:, 3].values\n",
    "\n",
    "for a in range(len(aop)):\n",
    "    aop[a] = float(aop[a])"
   ]
  },
  {
   "cell_type": "code",
   "execution_count": 39,
   "metadata": {},
   "outputs": [
    {
     "data": {
      "text/plain": [
       "<matplotlib.legend.Legend at 0x22e9f5f5820>"
      ]
     },
     "execution_count": 39,
     "metadata": {},
     "output_type": "execute_result"
    }
   ],
   "source": [
    "plt.figure(figsize = (12, 9))\n",
    "plt.title(\"Salyut7 Argument of Perigee($\\omega$) History\", fontsize = 25)\n",
    "plt.plot(epoch, aop, color = 'blue', label = '$AoP(^{\\circ})$')\n",
    "plt.xlabel('$Date$', fontsize = 25)\n",
    "plt.ylabel('$AoP(^{\\circ})$', fontsize = 25)\n",
    "plt.legend(loc = 'upper left')"
   ]
  },
  {
   "cell_type": "code",
   "execution_count": 40,
   "metadata": {},
   "outputs": [],
   "source": [
    "M = Salyut7.iloc[:, 4].values\n",
    "\n",
    "for a in range(len(M)):\n",
    "    M[a] = float(M[a])"
   ]
  },
  {
   "cell_type": "code",
   "execution_count": 41,
   "metadata": {},
   "outputs": [
    {
     "data": {
      "text/plain": [
       "<matplotlib.legend.Legend at 0x22e9691ba60>"
      ]
     },
     "execution_count": 41,
     "metadata": {},
     "output_type": "execute_result"
    }
   ],
   "source": [
    "plt.figure(figsize = (12, 9))\n",
    "plt.title(\"Salyut7 Mean Anomaly($M$) History\", fontsize = 25)\n",
    "plt.plot(epoch, M, color = 'blue', label = '$M(^{\\circ})$')\n",
    "plt.xlabel('$Date$', fontsize = 25)\n",
    "plt.ylabel('$M(^{\\circ})$', fontsize = 25)\n",
    "plt.legend(loc = 'upper left')"
   ]
  },
  {
   "cell_type": "code",
   "execution_count": 42,
   "metadata": {},
   "outputs": [],
   "source": [
    "n = Salyut7.iloc[:, 5].values\n",
    "\n",
    "for a in range(len(n)):\n",
    "    n[a] = float(n[a])"
   ]
  },
  {
   "cell_type": "code",
   "execution_count": 43,
   "metadata": {},
   "outputs": [
    {
     "data": {
      "text/plain": [
       "<matplotlib.legend.Legend at 0x22e9f857d00>"
      ]
     },
     "execution_count": 43,
     "metadata": {},
     "output_type": "execute_result"
    }
   ],
   "source": [
    "plt.figure(figsize = (12, 9))\n",
    "plt.title(\"Salyut7 Mean Motion($n$) History\", fontsize = 25)\n",
    "plt.plot(epoch, n, color = 'blue', label = '$n$')\n",
    "plt.xlabel('$Date$', fontsize = 25)\n",
    "plt.ylabel('$n$', fontsize = 25)\n",
    "plt.legend(loc = 'upper left')"
   ]
  },
  {
   "cell_type": "code",
   "execution_count": 45,
   "metadata": {},
   "outputs": [
    {
     "data": {
      "text/html": [
       "<div>\n",
       "<style scoped>\n",
       "    .dataframe tbody tr th:only-of-type {\n",
       "        vertical-align: middle;\n",
       "    }\n",
       "\n",
       "    .dataframe tbody tr th {\n",
       "        vertical-align: top;\n",
       "    }\n",
       "\n",
       "    .dataframe thead th {\n",
       "        text-align: right;\n",
       "    }\n",
       "</style>\n",
       "<table border=\"1\" class=\"dataframe\">\n",
       "  <thead>\n",
       "    <tr style=\"text-align: right;\">\n",
       "      <th></th>\n",
       "      <th>Unnamed: 0</th>\n",
       "      <th>RAAN</th>\n",
       "    </tr>\n",
       "  </thead>\n",
       "  <tbody>\n",
       "    <tr>\n",
       "      <th>0</th>\n",
       "      <td>0</td>\n",
       "      <td>196.4777</td>\n",
       "    </tr>\n",
       "    <tr>\n",
       "      <th>1</th>\n",
       "      <td>1</td>\n",
       "      <td>196.0736</td>\n",
       "    </tr>\n",
       "    <tr>\n",
       "      <th>2</th>\n",
       "      <td>2</td>\n",
       "      <td>195.6141</td>\n",
       "    </tr>\n",
       "    <tr>\n",
       "      <th>3</th>\n",
       "      <td>3</td>\n",
       "      <td>194.8337</td>\n",
       "    </tr>\n",
       "    <tr>\n",
       "      <th>4</th>\n",
       "      <td>4</td>\n",
       "      <td>193.5393</td>\n",
       "    </tr>\n",
       "    <tr>\n",
       "      <th>...</th>\n",
       "      <td>...</td>\n",
       "      <td>...</td>\n",
       "    </tr>\n",
       "    <tr>\n",
       "      <th>7132</th>\n",
       "      <td>7132</td>\n",
       "      <td>-14199.3935</td>\n",
       "    </tr>\n",
       "    <tr>\n",
       "      <th>7133</th>\n",
       "      <td>7133</td>\n",
       "      <td>-14202.2519</td>\n",
       "    </tr>\n",
       "    <tr>\n",
       "      <th>7134</th>\n",
       "      <td>7134</td>\n",
       "      <td>-14202.6594</td>\n",
       "    </tr>\n",
       "    <tr>\n",
       "      <th>7135</th>\n",
       "      <td>7135</td>\n",
       "      <td>-14203.4781</td>\n",
       "    </tr>\n",
       "    <tr>\n",
       "      <th>7136</th>\n",
       "      <td>7136</td>\n",
       "      <td>-14203.8859</td>\n",
       "    </tr>\n",
       "  </tbody>\n",
       "</table>\n",
       "<p>7137 rows × 2 columns</p>\n",
       "</div>"
      ],
      "text/plain": [
       "      Unnamed: 0        RAAN\n",
       "0              0    196.4777\n",
       "1              1    196.0736\n",
       "2              2    195.6141\n",
       "3              3    194.8337\n",
       "4              4    193.5393\n",
       "...          ...         ...\n",
       "7132        7132 -14199.3935\n",
       "7133        7133 -14202.2519\n",
       "7134        7134 -14202.6594\n",
       "7135        7135 -14203.4781\n",
       "7136        7136 -14203.8859\n",
       "\n",
       "[7137 rows x 2 columns]"
      ]
     },
     "execution_count": 45,
     "metadata": {},
     "output_type": "execute_result"
    }
   ],
   "source": [
    "data = pd.read_csv('RAAN.csv')\n",
    "data"
   ]
  },
  {
   "cell_type": "code",
   "execution_count": 46,
   "metadata": {},
   "outputs": [],
   "source": [
    "x = data['Unnamed: 0']\n",
    "y = data['RAAN']"
   ]
  },
  {
   "cell_type": "code",
   "execution_count": 47,
   "metadata": {},
   "outputs": [
    {
     "data": {
      "text/plain": [
       "[<matplotlib.lines.Line2D at 0x248054d5550>]"
      ]
     },
     "execution_count": 47,
     "metadata": {},
     "output_type": "execute_result"
    }
   ],
   "source": [
    "plt.plot(x, y)"
   ]
  },
  {
   "cell_type": "code",
   "execution_count": 48,
   "metadata": {},
   "outputs": [
    {
     "data": {
      "text/plain": [
       "[<matplotlib.lines.Line2D at 0x24805330c40>]"
      ]
     },
     "execution_count": 48,
     "metadata": {},
     "output_type": "execute_result"
    }
   ],
   "source": [
    "plt.plot(x, y % 360)"
   ]
  },
  {
   "cell_type": "code",
   "execution_count": null,
   "metadata": {},
   "outputs": [],
   "source": [
    "plt.plot(x, -2.03)"
   ]
  }
 ],
 "metadata": {
  "kernelspec": {
   "display_name": "Python 3",
   "language": "python",
   "name": "python3"
  },
  "language_info": {
   "codemirror_mode": {
    "name": "ipython",
    "version": 3
   },
   "file_extension": ".py",
   "mimetype": "text/x-python",
   "name": "python",
   "nbconvert_exporter": "python",
   "pygments_lexer": "ipython3",
   "version": "3.8.3"
  }
 },
 "nbformat": 4,
 "nbformat_minor": 4
}
